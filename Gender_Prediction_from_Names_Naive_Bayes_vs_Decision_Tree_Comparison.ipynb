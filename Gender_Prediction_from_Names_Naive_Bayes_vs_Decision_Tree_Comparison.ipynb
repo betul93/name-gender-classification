{
  "nbformat": 4,
  "nbformat_minor": 0,
  "metadata": {
    "colab": {
      "provenance": [],
      "gpuType": "T4"
    },
    "kernelspec": {
      "name": "python3",
      "display_name": "Python 3"
    },
    "language_info": {
      "name": "python"
    },
    "accelerator": "GPU"
  },
  "cells": [
    {
      "cell_type": "code",
      "source": [
        "from google.colab import drive\n",
        "drive.mount('/content/drive')\n",
        "\n",
        "import pandas as pd\n",
        "file_path = '/content/drive/My Drive/name_gender_dataset.csv'\n",
        "\n",
        "df = pd.read_csv(file_path)\n",
        "\n",
        "print(df.head(10))\n",
        "\n"
      ],
      "metadata": {
        "colab": {
          "base_uri": "https://localhost:8080/"
        },
        "id": "bu7-eH_Y3R2U",
        "outputId": "c3dfce5e-3c64-431e-cbf3-8660237dfed6"
      },
      "execution_count": null,
      "outputs": [
        {
          "output_type": "stream",
          "name": "stdout",
          "text": [
            "Mounted at /content/drive\n",
            "      Name Gender    Count  Probability\n",
            "0    James      M  5304407     0.014517\n",
            "1     John      M  5260831     0.014398\n",
            "2   Robert      M  4970386     0.013603\n",
            "3  Michael      M  4579950     0.012534\n",
            "4  William      M  4226608     0.011567\n",
            "5     Mary      F  4169663     0.011411\n",
            "6    David      M  3787547     0.010366\n",
            "7   Joseph      M  2695970     0.007378\n",
            "8  Richard      M  2638187     0.007220\n",
            "9  Charles      M  2433540     0.006660\n"
          ]
        }
      ]
    },
    {
      "cell_type": "code",
      "source": [
        "print(df.head())\n",
        "print(df.columns)\n",
        "print(df.info())\n"
      ],
      "metadata": {
        "id": "lYK6bKRO6q6t",
        "outputId": "5db2b91d-371e-4300-d7ad-2e63f01a7748",
        "colab": {
          "base_uri": "https://localhost:8080/"
        }
      },
      "execution_count": null,
      "outputs": [
        {
          "output_type": "stream",
          "name": "stdout",
          "text": [
            "      Name Gender    Count  Probability\n",
            "0    James      M  5304407     0.014517\n",
            "1     John      M  5260831     0.014398\n",
            "2   Robert      M  4970386     0.013603\n",
            "3  Michael      M  4579950     0.012534\n",
            "4  William      M  4226608     0.011567\n",
            "Index(['Name', 'Gender', 'Count', 'Probability'], dtype='object')\n",
            "<class 'pandas.core.frame.DataFrame'>\n",
            "RangeIndex: 147269 entries, 0 to 147268\n",
            "Data columns (total 4 columns):\n",
            " #   Column       Non-Null Count   Dtype  \n",
            "---  ------       --------------   -----  \n",
            " 0   Name         147269 non-null  object \n",
            " 1   Gender       147269 non-null  object \n",
            " 2   Count        147269 non-null  int64  \n",
            " 3   Probability  147269 non-null  float64\n",
            "dtypes: float64(1), int64(1), object(2)\n",
            "memory usage: 4.5+ MB\n",
            "None\n"
          ]
        }
      ]
    },
    {
      "cell_type": "code",
      "source": [
        "import pandas as pd\n",
        "from sklearn.model_selection import train_test_split\n",
        "from sklearn.naive_bayes import GaussianNB\n",
        "from sklearn.tree import DecisionTreeClassifier\n",
        "from sklearn.metrics import accuracy_score\n",
        "from sklearn.feature_extraction import DictVectorizer"
      ],
      "metadata": {
        "id": "7IPRu_HmxX0-"
      },
      "execution_count": null,
      "outputs": []
    },
    {
      "cell_type": "code",
      "source": [
        "# Function to extract properties from names\n",
        "def gender_features(name):\n",
        "    return {\n",
        "        'last_letter': name[-1].lower(),        # Last letter\n",
        "        'name_length': len(name),               # Name length\n",
        "    }\n",
        "\n",
        "# Feature extraction and labeling\n",
        "featuresets = [(gender_features(name), gender) for name, gender in zip(df['Name'], df['Gender'])]\n",
        "\n",
        "# Let's divide it into training and test sets\n",
        "train_set, test_set = train_test_split(featuresets, test_size=0.3, random_state=42)\n",
        "\n",
        "# Digitizing features with DictVectorizer\n",
        "vectorizer = DictVectorizer(sparse=False)\n",
        "X_train = vectorizer.fit_transform([features for features, _ in train_set])\n",
        "y_train = [gender for _, gender in train_set]\n",
        "X_test = vectorizer.transform([features for features, _ in test_set])\n",
        "y_test = [gender for _, gender in test_set]\n"
      ],
      "metadata": {
        "id": "6q_sriGY1fLu"
      },
      "execution_count": null,
      "outputs": []
    },
    {
      "cell_type": "code",
      "source": [
        "# Training the Naive Bayes\n",
        "nb_classifier = GaussianNB()\n",
        "nb_classifier.fit(X_train, y_train)\n",
        "\n",
        "# Making predictions with the test set\n",
        "y_pred_nb = nb_classifier.predict(X_test)\n",
        "\n",
        "# Calculating model accuracy\n",
        "accuracy_nb = accuracy_score(y_test, y_pred_nb)\n",
        "print(f\"Naive Bayes Doğruluğu: {accuracy_nb * 100:.2f}%\")\n"
      ],
      "metadata": {
        "colab": {
          "base_uri": "https://localhost:8080/"
        },
        "id": "iM7jxSg71nBN",
        "outputId": "381a1674-49a7-441c-af22-b357a7dadb4c"
      },
      "execution_count": null,
      "outputs": [
        {
          "output_type": "stream",
          "name": "stdout",
          "text": [
            "Naive Bayes Doğruluğu: 70.52%\n"
          ]
        }
      ]
    },
    {
      "cell_type": "code",
      "source": [
        "# Training the Decision Trees model\n",
        "dt_classifier = DecisionTreeClassifier(random_state=42)\n",
        "dt_classifier.fit(X_train, y_train)\n",
        "\n",
        "# Making predictions with the test set\n",
        "y_pred_dt = dt_classifier.predict(X_test)\n",
        "\n",
        "# Calculating model accuracy\n",
        "accuracy_dt = accuracy_score(y_test, y_pred_dt)\n",
        "print(f\"Karar Ağaçları Doğruluğu: {accuracy_dt * 100:.2f}%\")\n"
      ],
      "metadata": {
        "colab": {
          "base_uri": "https://localhost:8080/"
        },
        "id": "myBj1ioU1q9r",
        "outputId": "a58045cc-a018-4080-9379-b081ecb08b86"
      },
      "execution_count": null,
      "outputs": [
        {
          "output_type": "stream",
          "name": "stdout",
          "text": [
            "Karar Ağaçları Doğruluğu: 74.92%\n"
          ]
        }
      ]
    },
    {
      "cell_type": "code",
      "source": [
        "# Let's compare the results\n",
        "print(f\"\\nNaive Bayes Doğruluğu: {accuracy_nb * 100:.2f}%\")\n",
        "print(f\"Karar Ağaçları Doğruluğu: {accuracy_dt * 100:.2f}%\")\n"
      ],
      "metadata": {
        "id": "JuJojcZw1uV6",
        "outputId": "4f456d75-1b2c-48c5-f001-9e56e22a2a25",
        "colab": {
          "base_uri": "https://localhost:8080/"
        }
      },
      "execution_count": null,
      "outputs": [
        {
          "output_type": "stream",
          "name": "stdout",
          "text": [
            "\n",
            "Naive Bayes Doğruluğu: 70.52%\n",
            "Karar Ağaçları Doğruluğu: 74.92%\n"
          ]
        }
      ]
    }
  ]
}